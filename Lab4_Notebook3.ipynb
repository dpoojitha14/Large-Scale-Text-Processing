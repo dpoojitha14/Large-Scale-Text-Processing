{
 "cells": [
  {
   "cell_type": "markdown",
   "metadata": {},
   "source": [
    "Extracting only the text field in the tweets collected.\n",
    "\n",
    "Referred from http://socialmedia-class.org/twittertutorial.html"
   ]
  },
  {
   "cell_type": "code",
   "execution_count": 1,
   "metadata": {
    "collapsed": true
   },
   "outputs": [],
   "source": [
    "import json"
   ]
  },
  {
   "cell_type": "code",
   "execution_count": 8,
   "metadata": {
    "collapsed": false
   },
   "outputs": [],
   "source": [
    "tweets_filename = 'tweets.json'\n",
    "tweets_file = open(tweets_filename,\"r\")\n",
    "\n",
    "for line in tweets_file:\n",
    "    for line in tweets_file:\n",
    "        try:\n",
    "            # Read in one line of the file, convert it into a json object \n",
    "            tweet = json.loads(line.strip())\n",
    "            if 'text' in tweet: # only messages contains 'text' field is a tweet\n",
    "                data = tweet['text'] # content of the tweet\n",
    "                saveFile = open('tweet_text.txt','a')\n",
    "                saveFile.write(data)\n",
    "                saveFile.write('\\n')\n",
    "                saveFile.close()\n",
    "            \n",
    "        except:\n",
    "            continue"
   ]
  }
 ],
 "metadata": {
  "anaconda-cloud": {},
  "kernelspec": {
   "display_name": "Python [default]",
   "language": "python",
   "name": "python2"
  },
  "language_info": {
   "codemirror_mode": {
    "name": "ipython",
    "version": 2
   },
   "file_extension": ".py",
   "mimetype": "text/x-python",
   "name": "python",
   "nbconvert_exporter": "python",
   "pygments_lexer": "ipython2",
   "version": "2.7.12"
  }
 },
 "nbformat": 4,
 "nbformat_minor": 1
}
